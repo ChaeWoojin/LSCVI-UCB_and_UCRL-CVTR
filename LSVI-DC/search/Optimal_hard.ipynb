{
 "cells": [
  {
   "cell_type": "code",
   "execution_count": 1,
   "id": "cb68a8c8",
   "metadata": {},
   "outputs": [],
   "source": [
    "import os, sys\n",
    "sys.path.append('../')\n",
    "from tqdm import tqdm\n",
    "import random\n",
    "from env_hard import *\n",
    "\n",
    "from algorithms.optimal_policy_hard import *\n",
    "\n",
    "import matplotlib.pyplot as plt\n",
    "import seaborn as sns"
   ]
  },
  {
   "cell_type": "code",
   "execution_count": null,
   "id": "adf57f85",
   "metadata": {},
   "outputs": [],
   "source": [
    "print(os.getcwd())"
   ]
  },
  {
   "cell_type": "code",
   "execution_count": 9,
   "id": "e6a3334c",
   "metadata": {},
   "outputs": [],
   "source": [
    "nState = 6\n",
    "T = 1000\n",
    "# env = make_riverSwim(T=T, nState=nState)\n",
    "# env = make_randomMDP(T=Round, nState=7, nAction=2, reward_range=(0,1), sparsity=0.3)\n",
    "env = make_hardToLearnMDP(T=T)\n",
    "runs = 10\n",
    "seeds = [1234*(i+1) for i in range(runs)]"
   ]
  },
  {
   "cell_type": "code",
   "execution_count": null,
   "id": "205549f2",
   "metadata": {},
   "outputs": [],
   "source": [
    "run_returns = []\n",
    "\n",
    "for run in tqdm(range(runs)):\n",
    "    \n",
    "    random.seed(seeds[run])\n",
    "        \n",
    "    agent = Optimal_Policy(env, T = T)    \n",
    "    episodic_return = agent.run()\n",
    "    run_returns.append(episodic_return)\n",
    "    # np.save('C:/Users/uqpua/OneDrive/Desktop/UCMLK/data/S=' + str(nState)+ ', T=' + str(10000) +'/Optimal/return'+str(run)+'.npy', episodic_return)\n",
    "    np.save('/Users/optalab/Documents/UCMLK/data/hardtolearn/S=' + str(nState)+ ', T=' + str(10000) +'/Optimal Policy/return'+str(run)+'.npy', episodic_return)\n"
   ]
  },
  {
   "cell_type": "code",
   "execution_count": null,
   "id": "ce1f8bc7",
   "metadata": {},
   "outputs": [],
   "source": [
    "episodes = np.arange(T)\n",
    "\n",
    "plt.figure()\n",
    "data_mean = np.mean(run_returns, axis=0)\n",
    "data_std = np.std(run_returns, axis=0)\n",
    "    \n",
    "plt.fill_between(episodes, data_mean + data_std, data_mean - data_std, alpha=0.2)\n",
    "plt.plot(episodes, data_mean, linewidth=1.8)\n",
    "plt.title(\"RiverSwim: nState=4, epLen=15\")\n",
    "plt.xlabel(\"The Number of Episodes\")\n",
    "plt.ylabel(\"Episodic Returns\")\n",
    "plt.show()"
   ]
  }
 ],
 "metadata": {
  "kernelspec": {
   "display_name": "Python 3 (ipykernel)",
   "language": "python",
   "name": "python3"
  },
  "language_info": {
   "codemirror_mode": {
    "name": "ipython",
    "version": 3
   },
   "file_extension": ".py",
   "mimetype": "text/x-python",
   "name": "python",
   "nbconvert_exporter": "python",
   "pygments_lexer": "ipython3",
   "version": "3.9.13"
  }
 },
 "nbformat": 4,
 "nbformat_minor": 5
}
