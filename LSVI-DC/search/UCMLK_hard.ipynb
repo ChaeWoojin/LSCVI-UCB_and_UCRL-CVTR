{
 "cells": [
  {
   "cell_type": "code",
   "execution_count": 1,
   "id": "cb68a8c8",
   "metadata": {},
   "outputs": [],
   "source": [
    "import os, sys\n",
    "sys.path.append('../')\n",
    "from tqdm import tqdm\n",
    "import random\n",
    "from env_hard import *\n",
    "# from algorithms.lsvi_phe import *\n",
    "# from algorithms.lsvi_ucb import *\n",
    "# from algorithms.uc_matrixrl import *\n",
    "# from algorithms.ucrl_mnl import *\n",
    "# from algorithms.ucrl_vtr import *\n",
    "from algorithms.ucmlk_hard import *\n",
    "from algorithms.optimal_policy import *\n",
    "\n",
    "import matplotlib.pyplot as plt\n",
    "import seaborn as sns"
   ]
  },
  {
   "cell_type": "code",
   "execution_count": 2,
   "id": "adf57f85",
   "metadata": {},
   "outputs": [
    {
     "name": "stdout",
     "output_type": "stream",
     "text": [
      "/Users/optalab/Documents/UCRL-MNL/search\n",
      "['Optimal_hard.ipynb', 'LSVI-UCB.ipynb', 'UCMLK.ipynb', 'UCRL2-VTR.ipynb', 'Optimal.ipynb', 'LSVI-PHE.ipynb', 'UCRL-MNL.ipynb', '.ipynb_checkpoints', 'UCRL2-VTR_hard.ipynb', 'UC-MatrixRL.ipynb', 'UCMLK_hard.ipynb']\n"
     ]
    }
   ],
   "source": [
    "print(os.getcwd())\n",
    "print(os.listdir())"
   ]
  },
  {
   "cell_type": "code",
   "execution_count": 3,
   "id": "e6a3334c",
   "metadata": {},
   "outputs": [],
   "source": [
    "nState = 6\n",
    "T = 500\n",
    "# env = make_riverSwim(T=T, nState=nState)\n",
    "# env = make_randomMDP(T=Round, nState=7, nAction=2, reward_range=(0,1), sparsity=0.3)\n",
    "env = make_hardToLearnMDP(T=T)\n",
    "runs = 10\n",
    "seeds = [1234*(i+1) for i in range(runs)]"
   ]
  },
  {
   "cell_type": "code",
   "execution_count": 4,
   "id": "205549f2",
   "metadata": {},
   "outputs": [
    {
     "data": {
      "application/vnd.jupyter.widget-view+json": {
       "model_id": "1c020848825c4aa6b377deae364797e5",
       "version_major": 2,
       "version_minor": 0
      },
      "text/plain": [
       "  0%|          | 0/10 [00:00<?, ?it/s]"
      ]
     },
     "metadata": {},
     "output_type": "display_data"
    },
    {
     "name": "stdout",
     "output_type": "stream",
     "text": [
      "UCMLK\n"
     ]
    },
    {
     "data": {
      "application/vnd.jupyter.widget-view+json": {
       "model_id": "8c092248e69040429f795f96145daa9b",
       "version_major": 2,
       "version_minor": 0
      },
      "text/plain": [
       "  0%|          | 0/500 [00:00<?, ?it/s]"
      ]
     },
     "metadata": {},
     "output_type": "display_data"
    },
    {
     "name": "stdout",
     "output_type": "stream",
     "text": [
      "UCMLK\n"
     ]
    },
    {
     "data": {
      "application/vnd.jupyter.widget-view+json": {
       "model_id": "d94a3d8d7c6448ddb9e220d7dac9042f",
       "version_major": 2,
       "version_minor": 0
      },
      "text/plain": [
       "  0%|          | 0/500 [00:00<?, ?it/s]"
      ]
     },
     "metadata": {},
     "output_type": "display_data"
    },
    {
     "name": "stdout",
     "output_type": "stream",
     "text": [
      "UCMLK\n"
     ]
    },
    {
     "data": {
      "application/vnd.jupyter.widget-view+json": {
       "model_id": "d1ed1254b0ab4235ae3dcee2bb1c6bd5",
       "version_major": 2,
       "version_minor": 0
      },
      "text/plain": [
       "  0%|          | 0/500 [00:00<?, ?it/s]"
      ]
     },
     "metadata": {},
     "output_type": "display_data"
    },
    {
     "name": "stdout",
     "output_type": "stream",
     "text": [
      "UCMLK\n"
     ]
    },
    {
     "data": {
      "application/vnd.jupyter.widget-view+json": {
       "model_id": "33534078361141838f9e74ecd91625cc",
       "version_major": 2,
       "version_minor": 0
      },
      "text/plain": [
       "  0%|          | 0/500 [00:00<?, ?it/s]"
      ]
     },
     "metadata": {},
     "output_type": "display_data"
    },
    {
     "name": "stdout",
     "output_type": "stream",
     "text": [
      "UCMLK\n"
     ]
    },
    {
     "data": {
      "application/vnd.jupyter.widget-view+json": {
       "model_id": "63bc29b118534da6a43af91acc45d9e4",
       "version_major": 2,
       "version_minor": 0
      },
      "text/plain": [
       "  0%|          | 0/500 [00:00<?, ?it/s]"
      ]
     },
     "metadata": {},
     "output_type": "display_data"
    },
    {
     "name": "stdout",
     "output_type": "stream",
     "text": [
      "UCMLK\n"
     ]
    },
    {
     "data": {
      "application/vnd.jupyter.widget-view+json": {
       "model_id": "4919d66c2b7b400ea86e511495add772",
       "version_major": 2,
       "version_minor": 0
      },
      "text/plain": [
       "  0%|          | 0/500 [00:00<?, ?it/s]"
      ]
     },
     "metadata": {},
     "output_type": "display_data"
    },
    {
     "name": "stdout",
     "output_type": "stream",
     "text": [
      "UCMLK\n"
     ]
    },
    {
     "data": {
      "application/vnd.jupyter.widget-view+json": {
       "model_id": "d9356f32705f451c9a25c5e211181b52",
       "version_major": 2,
       "version_minor": 0
      },
      "text/plain": [
       "  0%|          | 0/500 [00:00<?, ?it/s]"
      ]
     },
     "metadata": {},
     "output_type": "display_data"
    },
    {
     "name": "stdout",
     "output_type": "stream",
     "text": [
      "UCMLK\n"
     ]
    },
    {
     "data": {
      "application/vnd.jupyter.widget-view+json": {
       "model_id": "668a10e24d5242bd8464851c4c607ce9",
       "version_major": 2,
       "version_minor": 0
      },
      "text/plain": [
       "  0%|          | 0/500 [00:00<?, ?it/s]"
      ]
     },
     "metadata": {},
     "output_type": "display_data"
    },
    {
     "name": "stdout",
     "output_type": "stream",
     "text": [
      "UCMLK\n"
     ]
    },
    {
     "data": {
      "application/vnd.jupyter.widget-view+json": {
       "model_id": "9af25575de4a44c383fb86321342fab1",
       "version_major": 2,
       "version_minor": 0
      },
      "text/plain": [
       "  0%|          | 0/500 [00:00<?, ?it/s]"
      ]
     },
     "metadata": {},
     "output_type": "display_data"
    },
    {
     "name": "stdout",
     "output_type": "stream",
     "text": [
      "UCMLK\n"
     ]
    },
    {
     "data": {
      "application/vnd.jupyter.widget-view+json": {
       "model_id": "381f997e02f84b2bbf967461c23a2359",
       "version_major": 2,
       "version_minor": 0
      },
      "text/plain": [
       "  0%|          | 0/500 [00:00<?, ?it/s]"
      ]
     },
     "metadata": {},
     "output_type": "display_data"
    }
   ],
   "source": [
    "run_returns = []\n",
    "\n",
    "for run in tqdm(range(runs)):\n",
    "    \n",
    "    random.seed(seeds[run])\n",
    "        \n",
    "    agent = UCMLK(env, c=1e-2, gamma=0.9, N=100, eta=0.01 , T=T)    \n",
    "    episodic_return = agent.run()\n",
    "    run_returns.append(episodic_return)\n",
    "#     np.save('../data/exp1/UCMLK/return'+str(run)+'.npy', episodic_return)\n",
    "    np.save('/Users/optalab/Documents/UCMLK/data/hardtolearn/S=' + str(nState)+ ', T=' + str(10000) +'/UCMLK/return'+str(run)+'.npy', episodic_return)\n"
   ]
  },
  {
   "cell_type": "code",
   "execution_count": 6,
   "id": "ce1f8bc7",
   "metadata": {},
   "outputs": [
    {
     "data": {
      "image/png": "[encoded data removed]",
      "text/plain": [
       "<Figure size 640x480 with 1 Axes>"
      ]
     },
     "metadata": {},
     "output_type": "display_data"
    }
   ],
   "source": [
    "episodes = np.arange(T)\n",
    "\n",
    "plt.figure()\n",
    "data_mean = np.mean(run_returns, axis=0)\n",
    "data_std = np.std(run_returns, axis=0)\n",
    "    \n",
    "plt.fill_between(episodes, data_mean + data_std, data_mean - data_std, alpha=0.2)\n",
    "plt.plot(episodes, data_mean, linewidth=1.8)\n",
    "plt.title(\"RiverSwim: nState=4, epLen=15\")\n",
    "plt.xlabel(\"The Number of Episodes\")\n",
    "\n",
    "plt.ylabel(\"Episodic Returns\")\n",
    "plt.show()"
   ]
  }
 ],
 "metadata": {
  "kernelspec": {
   "display_name": "Python 3 (ipykernel)",
   "language": "python",
   "name": "python3"
  },
  "language_info": {
   "codemirror_mode": {
    "name": "ipython",
    "version": 3
   },
   "file_extension": ".py",
   "mimetype": "text/x-python",
   "name": "python",
   "nbconvert_exporter": "python",
   "pygments_lexer": "ipython3",
   "version": "3.9.13"
  }
 },
 "nbformat": 4,
 "nbformat_minor": 5
}
