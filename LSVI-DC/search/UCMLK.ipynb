{
 "cells": [
  {
   "cell_type": "code",
   "execution_count": 1,
   "id": "cb68a8c8",
   "metadata": {},
   "outputs": [],
   "source": [
    "import os, sys\n",
    "sys.path.append('../')\n",
    "from tqdm import tqdm\n",
    "import random\n",
    "from env import *\n",
    "# from algorithms.lsvi_phe import *\n",
    "# from algorithms.lsvi_ucb import *\n",
    "# from algorithms.uc_matrixrl import *\n",
    "# from algorithms.ucrl_mnl import *\n",
    "# from algorithms.ucrl_vtr import *\n",
    "from algorithms.ucmlk import *\n",
    "from algorithms.optimal_policy import *\n",
    "\n",
    "import matplotlib.pyplot as plt\n",
    "import seaborn as sns"
   ]
  },
  {
   "cell_type": "code",
   "execution_count": 2,
   "id": "adf57f85",
   "metadata": {},
   "outputs": [
    {
     "name": "stdout",
     "output_type": "stream",
     "text": [
      "/Users/optalab/Documents/UCMLK/search\n",
      "['Optimal_hard.ipynb', 'UCMLK.ipynb', 'UCRL2-VTR.ipynb', 'Optimal.ipynb', 'UCRL2.ipynb', 'UCRL2_hard.ipynb', 'UCRL-MNL.ipynb', '.ipynb_checkpoints', 'TSDE.ipynb', 'UCRL2-VTR_hard.ipynb', 'UCMLK_hard.ipynb']\n"
     ]
    }
   ],
   "source": [
    "print(os.getcwd())\n",
    "print(os.listdir())"
   ]
  },
  {
   "cell_type": "code",
   "execution_count": 3,
   "id": "e6a3334c",
   "metadata": {},
   "outputs": [],
   "source": [
    "nState = 6\n",
    "T = 1000\n",
    "env = make_riverSwim(T=T, nState=nState)\n",
    "# env = make_randomMDP(T=Round, nState=7, nAction=2, reward_range=(0,1), sparsity=0.3)\n",
    "# env = make_hardToLearnMDP(T=Round)\n",
    "runs = 10\n",
    "seeds = [1234*(i+1) for i in range(runs)]"
   ]
  },
  {
   "cell_type": "code",
   "execution_count": 4,
   "id": "205549f2",
   "metadata": {},
   "outputs": [
    {
     "data": {
      "application/vnd.jupyter.widget-view+json": {
       "model_id": "89381a41b78a4ce28b566bb8c912daf6",
       "version_major": 2,
       "version_minor": 0
      },
      "text/plain": [
       "  0%|          | 0/10 [00:00<?, ?it/s]"
      ]
     },
     "metadata": {},
     "output_type": "display_data"
    },
    {
     "name": "stdout",
     "output_type": "stream",
     "text": [
      "UCMLK\n"
     ]
    },
    {
     "data": {
      "application/vnd.jupyter.widget-view+json": {
       "model_id": "a743f16bb28c47d98f79710e776f9c63",
       "version_major": 2,
       "version_minor": 0
      },
      "text/plain": [
       "  0%|          | 0/1000 [00:00<?, ?it/s]"
      ]
     },
     "metadata": {},
     "output_type": "display_data"
    },
    {
     "name": "stdout",
     "output_type": "stream",
     "text": [
      "UCMLK\n"
     ]
    },
    {
     "data": {
      "application/vnd.jupyter.widget-view+json": {
       "model_id": "549b9496b0044a7e8589ded886a23d6e",
       "version_major": 2,
       "version_minor": 0
      },
      "text/plain": [
       "  0%|          | 0/1000 [00:00<?, ?it/s]"
      ]
     },
     "metadata": {},
     "output_type": "display_data"
    },
    {
     "name": "stdout",
     "output_type": "stream",
     "text": [
      "UCMLK\n"
     ]
    },
    {
     "data": {
      "application/vnd.jupyter.widget-view+json": {
       "model_id": "178f733d516c4dfd876cae1e1504c943",
       "version_major": 2,
       "version_minor": 0
      },
      "text/plain": [
       "  0%|          | 0/1000 [00:00<?, ?it/s]"
      ]
     },
     "metadata": {},
     "output_type": "display_data"
    },
    {
     "name": "stdout",
     "output_type": "stream",
     "text": [
      "UCMLK\n"
     ]
    },
    {
     "data": {
      "application/vnd.jupyter.widget-view+json": {
       "model_id": "ae628c9900c441a2a9abf80a4c537094",
       "version_major": 2,
       "version_minor": 0
      },
      "text/plain": [
       "  0%|          | 0/1000 [00:00<?, ?it/s]"
      ]
     },
     "metadata": {},
     "output_type": "display_data"
    },
    {
     "name": "stdout",
     "output_type": "stream",
     "text": [
      "UCMLK\n"
     ]
    },
    {
     "data": {
      "application/vnd.jupyter.widget-view+json": {
       "model_id": "3774e8638f394592927120d493a3d12b",
       "version_major": 2,
       "version_minor": 0
      },
      "text/plain": [
       "  0%|          | 0/1000 [00:00<?, ?it/s]"
      ]
     },
     "metadata": {},
     "output_type": "display_data"
    },
    {
     "name": "stdout",
     "output_type": "stream",
     "text": [
      "UCMLK\n"
     ]
    },
    {
     "data": {
      "application/vnd.jupyter.widget-view+json": {
       "model_id": "774fbd9c14d4449ebd05c9c922828cf1",
       "version_major": 2,
       "version_minor": 0
      },
      "text/plain": [
       "  0%|          | 0/1000 [00:00<?, ?it/s]"
      ]
     },
     "metadata": {},
     "output_type": "display_data"
    },
    {
     "name": "stdout",
     "output_type": "stream",
     "text": [
      "UCMLK\n"
     ]
    },
    {
     "data": {
      "application/vnd.jupyter.widget-view+json": {
       "model_id": "c64724ec33fd4ec6ad312c7c3867a1f4",
       "version_major": 2,
       "version_minor": 0
      },
      "text/plain": [
       "  0%|          | 0/1000 [00:00<?, ?it/s]"
      ]
     },
     "metadata": {},
     "output_type": "display_data"
    },
    {
     "name": "stdout",
     "output_type": "stream",
     "text": [
      "UCMLK\n"
     ]
    },
    {
     "data": {
      "application/vnd.jupyter.widget-view+json": {
       "model_id": "fcf50f3800ac45d494affb39e567a77e",
       "version_major": 2,
       "version_minor": 0
      },
      "text/plain": [
       "  0%|          | 0/1000 [00:00<?, ?it/s]"
      ]
     },
     "metadata": {},
     "output_type": "display_data"
    },
    {
     "name": "stdout",
     "output_type": "stream",
     "text": [
      "UCMLK\n"
     ]
    },
    {
     "data": {
      "application/vnd.jupyter.widget-view+json": {
       "model_id": "f4d92cdf72754d3ca05682cc6ef9009b",
       "version_major": 2,
       "version_minor": 0
      },
      "text/plain": [
       "  0%|          | 0/1000 [00:00<?, ?it/s]"
      ]
     },
     "metadata": {},
     "output_type": "display_data"
    },
    {
     "name": "stdout",
     "output_type": "stream",
     "text": [
      "UCMLK\n"
     ]
    },
    {
     "data": {
      "application/vnd.jupyter.widget-view+json": {
       "model_id": "edb668023c234ecaa6544dc6f395002b",
       "version_major": 2,
       "version_minor": 0
      },
      "text/plain": [
       "  0%|          | 0/1000 [00:00<?, ?it/s]"
      ]
     },
     "metadata": {},
     "output_type": "display_data"
    }
   ],
   "source": [
    "run_returns = []\n",
    "\n",
    "for run in tqdm(range(runs)):\n",
    "    \n",
    "    random.seed(seeds[run])\n",
    "        \n",
    "    agent = UCMLK(env, c=1e-2, gamma=0.9, N=10, eta=0.01 , T=T)    \n",
    "    episodic_return = agent.run()\n",
    "    run_returns.append(episodic_return)\n",
    "#     np.save('../data/exp1/UCMLK/return'+str(run)+'.npy', episodic_return)\n",
    "    np.save('/Users/optalab/Documents/UCMLK/data/riverSwim/S=' + str(nState)+ ', T=' + str(10000) +'/UCMLK/return'+str(run)+'.npy', episodic_return)\n",
    "    # np.save('C:/Users/uqpua/OneDrive/Desktop/UCMLK/data/riverSwim/S=' + str(nState)+ ', T=' + str(10000) +'/UCMLK/return'+str(run)+'.npy', state_return)\n",
    "\n"
   ]
  },
  {
   "cell_type": "code",
   "execution_count": 6,
   "id": "ce1f8bc7",
   "metadata": {},
   "outputs": [
    {
     "data": {
      "image/png": "[encoded data removed]",
      "text/plain": [
       "<Figure size 640x480 with 1 Axes>"
      ]
     },
     "metadata": {},
     "output_type": "display_data"
    }
   ],
   "source": [
    "episodes = np.arange(T)\n",
    "\n",
    "plt.figure()\n",
    "data_mean = np.mean(run_returns, axis=0)\n",
    "data_std = np.std(run_returns, axis=0)\n",
    "    \n",
    "plt.fill_between(episodes, data_mean + data_std, data_mean - data_std, alpha=0.2)\n",
    "plt.plot(episodes, data_mean, linewidth=1.8)\n",
    "plt.title(\"RiverSwim: nState=4, epLen=15\")\n",
    "plt.xlabel(\"The Number of Episodes\")\n",
    "\n",
    "plt.ylabel(\"Episodic Returns\")\n",
    "plt.show()"
   ]
  }
 ],
 "metadata": {
  "kernelspec": {
   "display_name": "Python 3 (ipykernel)",
   "language": "python",
   "name": "python3"
  },
  "language_info": {
   "codemirror_mode": {
    "name": "ipython",
    "version": 3
   },
   "file_extension": ".py",
   "mimetype": "text/x-python",
   "name": "python",
   "nbconvert_exporter": "python",
   "pygments_lexer": "ipython3",
   "version": "3.9.13"
  }
 },
 "nbformat": 4,
 "nbformat_minor": 5
}
