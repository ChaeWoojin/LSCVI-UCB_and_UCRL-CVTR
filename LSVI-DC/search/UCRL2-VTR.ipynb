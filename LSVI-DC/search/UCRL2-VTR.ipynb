{
 "cells": [
  {
   "cell_type": "code",
   "execution_count": 6,
   "id": "de9e5fbc",
   "metadata": {},
   "outputs": [
    {
     "data": {
      "text/plain": [
       "['C:\\\\Python310\\\\python310.zip',\n",
       " 'C:\\\\Python310\\\\DLLs',\n",
       " 'C:\\\\Python310\\\\lib',\n",
       " 'C:\\\\Python310',\n",
       " 'c:\\\\Users\\\\codnw\\\\PycharmProjects\\\\linear_mixture_mdp\\\\LSVI-DC\\\\.venv',\n",
       " '',\n",
       " 'c:\\\\Users\\\\codnw\\\\PycharmProjects\\\\linear_mixture_mdp\\\\LSVI-DC\\\\.venv\\\\lib\\\\site-packages',\n",
       " 'c:\\\\Users\\\\codnw\\\\PycharmProjects\\\\linear_mixture_mdp\\\\LSVI-DC\\\\.venv\\\\lib\\\\site-packages\\\\win32',\n",
       " 'c:\\\\Users\\\\codnw\\\\PycharmProjects\\\\linear_mixture_mdp\\\\LSVI-DC\\\\.venv\\\\lib\\\\site-packages\\\\win32\\\\lib',\n",
       " 'c:\\\\Users\\\\codnw\\\\PycharmProjects\\\\linear_mixture_mdp\\\\LSVI-DC\\\\.venv\\\\lib\\\\site-packages\\\\Pythonwin']"
      ]
     },
     "execution_count": 6,
     "metadata": {},
     "output_type": "execute_result"
    }
   ],
   "source": [
    "sys.path"
   ]
  },
  {
   "cell_type": "code",
   "execution_count": 8,
   "id": "d6014686",
   "metadata": {},
   "outputs": [],
   "source": [
    "import os, sys\n",
    "# sys.path.append('../')\n",
    "from tqdm import tqdm\n",
    "import random\n",
    "from env.env import *\n",
    "from algorithms.ucrl2_vtr import *\n",
    "from algorithms.optimal_policy import *\n",
    "\n",
    "import matplotlib.pyplot as plt\n",
    "import seaborn as sns"
   ]
  },
  {
   "cell_type": "code",
   "execution_count": 5,
   "id": "df9ce2cf",
   "metadata": {},
   "outputs": [],
   "source": [
    "runs = 1\n",
    "seeds = [123*(i+1) for i in range(runs)]"
   ]
  },
  {
   "cell_type": "code",
   "execution_count": null,
   "id": "e40d378b",
   "metadata": {},
   "outputs": [],
   "source": [
    "T = 10000  # 3000 이후로 infeasible 문제\n",
    "nState = 6\n",
    "delta = 0.01\n",
    "lam = 1\n",
    "epsilon = min(0.01, 1/ np.sqrt(T))\n",
    "# epsilon = 1/np.sqrt(T)\n",
    "env = make_riverSwim(T=T, nState=nState)\n",
    "# c_ = [1, 5e-1, 1e-1, 5e-2, 1e-2]\n",
    "\n",
    "run_returns = []\n",
    "\n",
    "for run in tqdm(range(runs)):\n",
    "    \n",
    "    random.seed(seeds[run])\n",
    "        \n",
    "    agent = UCRL2_VTR(env, T=T, c=1e-2, delta=0.01, lam=1, epsilon=epsilon)    \n",
    "    episodic_return = agent.run()\n",
    "    run_returns.append(episodic_return)\n",
    "    resultDir = '../data/riverSwim/S=' + str(nState)+ ', T=' + str(10000) +'/UCRL2-VTR'\n",
    "    if not os.path.exists(resultDir):\n",
    "        os.makedirs(resultDir)  # Create the directory if it doesn't exist\n",
    "    np.save(resultDir + '/return' + str(run)+'.npy', episodic_return)\n"
   ]
  },
  {
   "cell_type": "code",
   "execution_count": 1,
   "id": "f3dd95be",
   "metadata": {},
   "outputs": [
    {
     "ename": "NameError",
     "evalue": "name 'make_riverSwim' is not defined",
     "output_type": "error",
     "traceback": [
      "\u001b[1;31m---------------------------------------------------------------------------\u001b[0m",
      "\u001b[1;31mNameError\u001b[0m                                 Traceback (most recent call last)",
      "Cell \u001b[1;32mIn[1], line 8\u001b[0m\n\u001b[0;32m      6\u001b[0m \u001b[38;5;28;01mfrom\u001b[39;00m \u001b[38;5;21;01mtqdm\u001b[39;00m \u001b[38;5;28;01mimport\u001b[39;00m tqdm\n\u001b[0;32m      7\u001b[0m \u001b[38;5;28;01mfrom\u001b[39;00m \u001b[38;5;21;01menv\u001b[39;00m\u001b[38;5;21;01m.\u001b[39;00m\u001b[38;5;21;01menv\u001b[39;00m \u001b[38;5;28;01mimport\u001b[39;00m \u001b[38;5;241m*\u001b[39m\n\u001b[1;32m----> 8\u001b[0m \u001b[38;5;28;01mfrom\u001b[39;00m \u001b[38;5;21;01malgorithms\u001b[39;00m\u001b[38;5;21;01m.\u001b[39;00m\u001b[38;5;21;01mucrl2_vtr\u001b[39;00m \u001b[38;5;28;01mimport\u001b[39;00m UCRL2_VTR\n\u001b[0;32m      9\u001b[0m \u001b[38;5;28;01mimport\u001b[39;00m \u001b[38;5;21;01mmultiprocessing\u001b[39;00m \u001b[38;5;28;01mas\u001b[39;00m \u001b[38;5;21;01mmp\u001b[39;00m\n\u001b[0;32m     10\u001b[0m \u001b[38;5;28;01mimport\u001b[39;00m \u001b[38;5;21;01mmatplotlib\u001b[39;00m\u001b[38;5;21;01m.\u001b[39;00m\u001b[38;5;21;01mpyplot\u001b[39;00m \u001b[38;5;28;01mas\u001b[39;00m \u001b[38;5;21;01mplt\u001b[39;00m\n",
      "File \u001b[1;32mc:\\Users\\codnw\\PycharmProjects\\linear_mixture_mdp\\LSVI-DC\\search\\..\\algorithms\\ucrl2_vtr.py:224\u001b[0m\n\u001b[0;32m    220\u001b[0m             episode_return\u001b[38;5;241m.\u001b[39mappend(R)\n\u001b[0;32m    222\u001b[0m         \u001b[38;5;28;01mreturn\u001b[39;00m episode_return\n\u001b[1;32m--> 224\u001b[0m env \u001b[38;5;241m=\u001b[39m \u001b[43mmake_riverSwim\u001b[49m(T\u001b[38;5;241m=\u001b[39m\u001b[38;5;241m100\u001b[39m, nState\u001b[38;5;241m=\u001b[39m\u001b[38;5;241m6\u001b[39m)\n\u001b[0;32m    225\u001b[0m epsilon \u001b[38;5;241m=\u001b[39m \u001b[38;5;28mmin\u001b[39m(\u001b[38;5;241m0.01\u001b[39m, \u001b[38;5;241m1\u001b[39m \u001b[38;5;241m/\u001b[39m np\u001b[38;5;241m.\u001b[39msqrt(\u001b[38;5;241m100\u001b[39m))\n\u001b[0;32m    226\u001b[0m agent \u001b[38;5;241m=\u001b[39m UCRL2_VTR(env, T\u001b[38;5;241m=\u001b[39m\u001b[38;5;241m100\u001b[39m, c\u001b[38;5;241m=\u001b[39m\u001b[38;5;241m1e-2\u001b[39m, delta\u001b[38;5;241m=\u001b[39m\u001b[38;5;241m0.01\u001b[39m, lam\u001b[38;5;241m=\u001b[39m\u001b[38;5;241m1\u001b[39m, epsilon\u001b[38;5;241m=\u001b[39mepsilon)    \n",
      "\u001b[1;31mNameError\u001b[0m: name 'make_riverSwim' is not defined"
     ]
    }
   ],
   "source": [
    "import os\n",
    "import sys\n",
    "sys.path.append('../')\n",
    "import random\n",
    "import numpy as np\n",
    "from tqdm import tqdm\n",
    "from env.env import *\n",
    "from algorithms.ucrl2_vtr import UCRL2_VTR\n",
    "import multiprocessing as mp\n",
    "import matplotlib.pyplot as plt\n",
    "import seaborn as sns\n",
    "\n",
    "# Function to run a single experiment\n",
    "def run_experiment(run, seed, T, nState, delta, lam, epsilon, resultDir):\n",
    "    random.seed(seed)\n",
    "    \n",
    "    # Create the environment\n",
    "    env = make_riverSwim(T=T, nState=nState)\n",
    "    \n",
    "    # Initialize the agent\n",
    "    agent = UCRL2_VTR(env, T=T, c=1e-2, delta=delta, lam=lam, epsilon=epsilon)\n",
    "    # Run the agent\n",
    "    episodic_return = agent.run()\n",
    "    print(\"seed %d done\"%(seed))\n",
    "\n",
    "    # Save the result\n",
    "    if not os.path.exists(resultDir):\n",
    "        os.makedirs(resultDir)  # Create the directory if it doesn't exist\n",
    "    np.save(resultDir + f'/return{run}.npy', episodic_return)\n",
    "\n",
    "    return episodic_return\n",
    "\n",
    "def main():\n",
    "    runs = 4  # Adjust this based on the number of parallel runs\n",
    "    seeds = [123 * (i + 1) for i in range(runs)]\n",
    "    T = 100\n",
    "    nState = 6\n",
    "    delta = 0.01\n",
    "    lam = 1\n",
    "    epsilon = min(0.01, 1 / np.sqrt(T))\n",
    "\n",
    "    resultDir = '../data/riverSwim/S=' + str(nState) + ', T=' + str(T) + '/UCRL2-VTR'\n",
    "    \n",
    "    # Use multiprocessing to run experiments in parallel\n",
    "    pool = mp.Pool(mp.cpu_count())  # Use all available CPUs\n",
    "\n",
    "    # Use pool.starmap to distribute the runs in parallel\n",
    "    results = pool.starmap(run_experiment, [(run, seeds[run], T, nState, delta, lam, epsilon, resultDir) for run in range(runs)])\n",
    "\n",
    "    pool.close()  # Close the pool to prevent new tasks from being submitted\n",
    "    pool.join()  # Wait for all worker processes to finish\n",
    "\n",
    "    episodes = np.arange(T)\n",
    "\n",
    "    plt.figure()\n",
    "    data_mean = np.mean(results, axis=0)\n",
    "    data_std = np.std(results, axis=0)\n",
    "        \n",
    "    plt.fill_between(episodes, data_mean + data_std, data_mean - data_std, alpha=0.2)\n",
    "    plt.plot(episodes, data_mean, linewidth=1.8)\n",
    "    plt.title(\"RiverSwim: nState=6, T=100\")\n",
    "    plt.xlabel(\"The Number of Episodes\")\n",
    "\n",
    "    plt.ylabel(\"Episodic Returns\")\n",
    "    plt.show()\n",
    "\n",
    "    return results\n",
    "\n",
    "if __name__ == '__main__':\n",
    "    run_returns = main()\n",
    "    print(\"All experiments completed!\")\n"
   ]
  },
  {
   "cell_type": "code",
   "execution_count": null,
   "id": "bcc9e9ee",
   "metadata": {},
   "outputs": [],
   "source": [
    "episodes = np.arange(T)\n",
    "\n",
    "plt.figure()\n",
    "data_mean = np.mean(run_returns, axis=0)\n",
    "data_std = np.std(run_returns, axis=0)\n",
    "    \n",
    "plt.fill_between(episodes, data_mean + data_std, data_mean - data_std, alpha=0.2)\n",
    "plt.plot(episodes, data_mean, linewidth=1.8)\n",
    "plt.title(\"RiverSwim: nState=4, epLen=15\")\n",
    "plt.xlabel(\"The Number of Episodes\")\n",
    "\n",
    "plt.ylabel(\"Episodic Returns\")\n",
    "plt.show()"
   ]
  }
 ],
 "metadata": {
  "kernelspec": {
   "display_name": "Python 3 (ipykernel)",
   "language": "python",
   "name": "python3"
  },
  "language_info": {
   "codemirror_mode": {
    "name": "ipython",
    "version": 3
   },
   "file_extension": ".py",
   "mimetype": "text/x-python",
   "name": "python",
   "nbconvert_exporter": "python",
   "pygments_lexer": "ipython3",
   "version": "3.10.6"
  }
 },
 "nbformat": 4,
 "nbformat_minor": 5
}
