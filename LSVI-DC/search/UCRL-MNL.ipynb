{
 "cells": [
  {
   "cell_type": "code",
   "execution_count": 1,
   "id": "d6014686",
   "metadata": {},
   "outputs": [],
   "source": [
    "import os, sys\n",
    "sys.path.append('../')\n",
    "from tqdm import tqdm\n",
    "import random\n",
    "from env2 import *\n",
    "from algorithms.ucrl_mnl import *"
   ]
  },
  {
   "cell_type": "code",
   "execution_count": 2,
   "id": "df9ce2cf",
   "metadata": {},
   "outputs": [],
   "source": [
    "runs = 5\n",
    "seeds = [123*(i+1) for i in range(runs)]"
   ]
  },
  {
   "cell_type": "code",
   "execution_count": 3,
   "id": "e40d378b",
   "metadata": {},
   "outputs": [
    {
     "data": {
      "application/vnd.jupyter.widget-view+json": {
       "model_id": "28d31dcee2f448d19f79f5c6facc2aa6",
       "version_major": 2,
       "version_minor": 0
      },
      "text/plain": [
       "  0%|          | 0/5 [00:00<?, ?it/s]"
      ]
     },
     "metadata": {},
     "output_type": "display_data"
    },
    {
     "name": "stdout",
     "output_type": "stream",
     "text": [
      "UCRL-MNL\n"
     ]
    },
    {
     "data": {
      "application/vnd.jupyter.widget-view+json": {
       "model_id": "d460c1a50bac4983896e3a228c345b18",
       "version_major": 2,
       "version_minor": 0
      },
      "text/plain": [
       "  0%|          | 0/1 [00:00<?, ?it/s]"
      ]
     },
     "metadata": {},
     "output_type": "display_data"
    },
    {
     "name": "stdout",
     "output_type": "stream",
     "text": [
      "k: 1 h: 1 a: 0 r: 0\n",
      "k: 1 h: 5 a: 0 r: 0\n",
      "k: 1 h: 7 a: 0 r: 0\n",
      "k: 1 h: 8 a: 0 r: 0.005\n",
      "k: 1 h: 9 a: 0 r: 0.005\n",
      "k: 1 h: 10 a: 0 r: 0.005\n",
      "k: 1 h: 11 a: 0 r: 0.005\n",
      "UCRL-MNL\n"
     ]
    },
    {
     "data": {
      "application/vnd.jupyter.widget-view+json": {
       "model_id": "8b088f1dfc0f4c3593bcb5a866f85e71",
       "version_major": 2,
       "version_minor": 0
      },
      "text/plain": [
       "  0%|          | 0/1 [00:00<?, ?it/s]"
      ]
     },
     "metadata": {},
     "output_type": "display_data"
    },
    {
     "name": "stdout",
     "output_type": "stream",
     "text": [
      "k: 1 h: 0 a: 0 r: 0.005\n",
      "k: 1 h: 3 a: 0 r: 0\n",
      "k: 1 h: 5 a: 0 r: 0\n",
      "k: 1 h: 6 a: 0 r: 0.005\n",
      "k: 1 h: 12 a: 0 r: 0\n",
      "UCRL-MNL\n"
     ]
    },
    {
     "data": {
      "application/vnd.jupyter.widget-view+json": {
       "model_id": "7f69cdef27bf4f3e9c17483b53061d89",
       "version_major": 2,
       "version_minor": 0
      },
      "text/plain": [
       "  0%|          | 0/1 [00:00<?, ?it/s]"
      ]
     },
     "metadata": {},
     "output_type": "display_data"
    },
    {
     "name": "stdout",
     "output_type": "stream",
     "text": [
      "k: 1 h: 2 a: 0 r: 0.005\n",
      "k: 1 h: 4 a: 0 r: 0.005\n",
      "k: 1 h: 5 a: 0 r: 0.005\n",
      "k: 1 h: 8 a: 0 r: 0\n",
      "k: 1 h: 9 a: 0 r: 0.005\n",
      "k: 1 h: 10 a: 0 r: 0.005\n",
      "k: 1 h: 11 a: 0 r: 0.005\n",
      "k: 1 h: 13 a: 0 r: 0\n",
      "k: 1 h: 14 a: 0 r: 0.005\n",
      "UCRL-MNL\n"
     ]
    },
    {
     "data": {
      "application/vnd.jupyter.widget-view+json": {
       "model_id": "4264b32d9c154cf899b98509ec9c759c",
       "version_major": 2,
       "version_minor": 0
      },
      "text/plain": [
       "  0%|          | 0/1 [00:00<?, ?it/s]"
      ]
     },
     "metadata": {},
     "output_type": "display_data"
    },
    {
     "name": "stdout",
     "output_type": "stream",
     "text": [
      "k: 1 h: 0 a: 0 r: 0.005\n",
      "k: 1 h: 1 a: 0 r: 0.005\n",
      "k: 1 h: 4 a: 0 r: 0\n",
      "k: 1 h: 5 a: 0 r: 0\n",
      "k: 1 h: 6 a: 0 r: 0.005\n",
      "k: 1 h: 7 a: 0 r: 0.005\n",
      "k: 1 h: 8 a: 0 r: 0.005\n",
      "k: 1 h: 9 a: 0 r: 0.005\n",
      "k: 1 h: 12 a: 0 r: 0\n",
      "UCRL-MNL\n"
     ]
    },
    {
     "data": {
      "application/vnd.jupyter.widget-view+json": {
       "model_id": "6dbc037edb534023a9b651d85256d6db",
       "version_major": 2,
       "version_minor": 0
      },
      "text/plain": [
       "  0%|          | 0/1 [00:00<?, ?it/s]"
      ]
     },
     "metadata": {},
     "output_type": "display_data"
    },
    {
     "name": "stdout",
     "output_type": "stream",
     "text": [
      "k: 1 h: 0 a: 0 r: 0.005\n",
      "k: 1 h: 3 a: 0 r: 0\n",
      "k: 1 h: 5 a: 0 r: 0\n",
      "k: 1 h: 7 a: 0 r: 0.005\n",
      "k: 1 h: 8 a: 0 r: 0.005\n",
      "k: 1 h: 9 a: 0 r: 0.005\n",
      "k: 1 h: 10 a: 0 r: 0.005\n",
      "k: 1 h: 12 a: 0 r: 0\n",
      "k: 1 h: 14 a: 0 r: 0.005\n"
     ]
    },
    {
     "data": {
      "application/vnd.jupyter.widget-view+json": {
       "model_id": "d5b60d271db44e91b08ee7f12197dfb5",
       "version_major": 2,
       "version_minor": 0
      },
      "text/plain": [
       "  0%|          | 0/5 [00:00<?, ?it/s]"
      ]
     },
     "metadata": {},
     "output_type": "display_data"
    },
    {
     "name": "stdout",
     "output_type": "stream",
     "text": [
      "UCRL-MNL\n"
     ]
    },
    {
     "data": {
      "application/vnd.jupyter.widget-view+json": {
       "model_id": "957e84c8e65f44abaf3f5a262de0dd4e",
       "version_major": 2,
       "version_minor": 0
      },
      "text/plain": [
       "  0%|          | 0/1 [00:00<?, ?it/s]"
      ]
     },
     "metadata": {},
     "output_type": "display_data"
    },
    {
     "name": "stdout",
     "output_type": "stream",
     "text": [
      "k: 1 h: 3 a: 0 r: 0\n",
      "k: 1 h: 5 a: 0 r: 0\n",
      "k: 1 h: 10 a: 0 r: 0\n",
      "k: 1 h: 12 a: 0 r: 0\n",
      "k: 1 h: 14 a: 0 r: 0\n",
      "UCRL-MNL\n"
     ]
    },
    {
     "data": {
      "application/vnd.jupyter.widget-view+json": {
       "model_id": "d0a4a211a75f447b9ea6b77599e56fd6",
       "version_major": 2,
       "version_minor": 0
      },
      "text/plain": [
       "  0%|          | 0/1 [00:00<?, ?it/s]"
      ]
     },
     "metadata": {},
     "output_type": "display_data"
    },
    {
     "name": "stdout",
     "output_type": "stream",
     "text": [
      "k: 1 h: 1 a: 0 r: 0.005\n",
      "k: 1 h: 4 a: 0 r: 0\n",
      "k: 1 h: 7 a: 0 r: 0.005\n",
      "k: 1 h: 10 a: 0 r: 0.005\n",
      "k: 1 h: 11 a: 0 r: 0.005\n",
      "k: 1 h: 12 a: 0 r: 0.005\n",
      "k: 1 h: 13 a: 0 r: 0.005\n",
      "k: 1 h: 14 a: 0 r: 0.005\n",
      "UCRL-MNL\n"
     ]
    },
    {
     "data": {
      "application/vnd.jupyter.widget-view+json": {
       "model_id": "f957396fec974fde9e6165abb8f92239",
       "version_major": 2,
       "version_minor": 0
      },
      "text/plain": [
       "  0%|          | 0/1 [00:00<?, ?it/s]"
      ]
     },
     "metadata": {},
     "output_type": "display_data"
    },
    {
     "name": "stdout",
     "output_type": "stream",
     "text": [
      "k: 1 h: 0 a: 0 r: 0.005\n",
      "k: 1 h: 1 a: 0 r: 0.005\n",
      "k: 1 h: 3 a: 0 r: 0\n",
      "k: 1 h: 4 a: 0 r: 0.005\n",
      "k: 1 h: 5 a: 0 r: 0.005\n",
      "k: 1 h: 6 a: 0 r: 0.005\n",
      "k: 1 h: 7 a: 0 r: 0.005\n",
      "k: 1 h: 9 a: 0 r: 0\n",
      "k: 1 h: 10 a: 0 r: 0.005\n",
      "k: 1 h: 12 a: 0 r: 0\n",
      "k: 1 h: 13 a: 0 r: 0.005\n",
      "k: 1 h: 14 a: 0 r: 0.005\n",
      "UCRL-MNL\n"
     ]
    },
    {
     "data": {
      "application/vnd.jupyter.widget-view+json": {
       "model_id": "84d5cf90dc254d29becfdf0898fd2fa3",
       "version_major": 2,
       "version_minor": 0
      },
      "text/plain": [
       "  0%|          | 0/1 [00:00<?, ?it/s]"
      ]
     },
     "metadata": {},
     "output_type": "display_data"
    },
    {
     "name": "stdout",
     "output_type": "stream",
     "text": [
      "k: 1 h: 1 a: 0 r: 0\n",
      "k: 1 h: 2 a: 0 r: 0.005\n",
      "k: 1 h: 5 a: 0 r: 0.005\n",
      "k: 1 h: 6 a: 0 r: 0.005\n",
      "k: 1 h: 8 a: 0 r: 0\n",
      "k: 1 h: 11 a: 0 r: 0\n",
      "UCRL-MNL\n"
     ]
    },
    {
     "data": {
      "application/vnd.jupyter.widget-view+json": {
       "model_id": "1338d6dcee774344b65d5fc675ea2535",
       "version_major": 2,
       "version_minor": 0
      },
      "text/plain": [
       "  0%|          | 0/1 [00:00<?, ?it/s]"
      ]
     },
     "metadata": {},
     "output_type": "display_data"
    },
    {
     "name": "stdout",
     "output_type": "stream",
     "text": [
      "k: 1 h: 1 a: 0 r: 0.005\n",
      "k: 1 h: 2 a: 0 r: 0.005\n",
      "k: 1 h: 5 a: 0 r: 0\n",
      "k: 1 h: 8 a: 0 r: 0.005\n",
      "k: 1 h: 11 a: 0 r: 0\n",
      "k: 1 h: 14 a: 0 r: 0\n"
     ]
    },
    {
     "data": {
      "application/vnd.jupyter.widget-view+json": {
       "model_id": "cdab11fc109e4bd6a58bd1962338d6b7",
       "version_major": 2,
       "version_minor": 0
      },
      "text/plain": [
       "  0%|          | 0/5 [00:00<?, ?it/s]"
      ]
     },
     "metadata": {},
     "output_type": "display_data"
    },
    {
     "name": "stdout",
     "output_type": "stream",
     "text": [
      "UCRL-MNL\n"
     ]
    },
    {
     "data": {
      "application/vnd.jupyter.widget-view+json": {
       "model_id": "60236c035a344a7b942c0cdff49d7db0",
       "version_major": 2,
       "version_minor": 0
      },
      "text/plain": [
       "  0%|          | 0/1 [00:00<?, ?it/s]"
      ]
     },
     "metadata": {},
     "output_type": "display_data"
    },
    {
     "name": "stdout",
     "output_type": "stream",
     "text": [
      "k: 1 h: 3 a: 0 r: 0.005\n",
      "k: 1 h: 7 a: 0 r: 0\n",
      "k: 1 h: 8 a: 0 r: 0\n",
      "k: 1 h: 14 a: 0 r: 0\n",
      "UCRL-MNL\n"
     ]
    },
    {
     "data": {
      "application/vnd.jupyter.widget-view+json": {
       "model_id": "abd0b30c4b814b4f92685bee3666933f",
       "version_major": 2,
       "version_minor": 0
      },
      "text/plain": [
       "  0%|          | 0/1 [00:00<?, ?it/s]"
      ]
     },
     "metadata": {},
     "output_type": "display_data"
    },
    {
     "name": "stdout",
     "output_type": "stream",
     "text": [
      "k: 1 h: 0 a: 0 r: 0.005\n",
      "k: 1 h: 1 a: 0 r: 0.005\n",
      "k: 1 h: 2 a: 0 r: 0.005\n",
      "k: 1 h: 5 a: 0 r: 0\n",
      "k: 1 h: 6 a: 0 r: 0\n",
      "k: 1 h: 7 a: 0 r: 0.005\n",
      "k: 1 h: 9 a: 0 r: 0\n",
      "k: 1 h: 11 a: 0 r: 0.005\n",
      "k: 1 h: 12 a: 0 r: 0.005\n",
      "UCRL-MNL\n"
     ]
    },
    {
     "data": {
      "application/vnd.jupyter.widget-view+json": {
       "model_id": "8a594dc119f947ceaffd5926def341a7",
       "version_major": 2,
       "version_minor": 0
      },
      "text/plain": [
       "  0%|          | 0/1 [00:00<?, ?it/s]"
      ]
     },
     "metadata": {},
     "output_type": "display_data"
    },
    {
     "name": "stdout",
     "output_type": "stream",
     "text": [
      "k: 1 h: 0 a: 0 r: 0.005\n",
      "k: 1 h: 1 a: 0 r: 0.005\n",
      "k: 1 h: 2 a: 0 r: 0.005\n",
      "k: 1 h: 4 a: 0 r: 0\n",
      "k: 1 h: 6 a: 0 r: 0\n",
      "k: 1 h: 7 a: 0 r: 0.005\n",
      "k: 1 h: 10 a: 0 r: 0\n",
      "k: 1 h: 11 a: 0 r: 0\n",
      "k: 1 h: 14 a: 0 r: 0\n",
      "UCRL-MNL\n"
     ]
    },
    {
     "data": {
      "application/vnd.jupyter.widget-view+json": {
       "model_id": "de464f67f8b842df9c4d3c6c5c74852f",
       "version_major": 2,
       "version_minor": 0
      },
      "text/plain": [
       "  0%|          | 0/1 [00:00<?, ?it/s]"
      ]
     },
     "metadata": {},
     "output_type": "display_data"
    },
    {
     "name": "stdout",
     "output_type": "stream",
     "text": [
      "k: 1 h: 0 a: 0 r: 0.005\n",
      "k: 1 h: 1 a: 0 r: 0.005\n",
      "k: 1 h: 2 a: 0 r: 0.005\n",
      "k: 1 h: 3 a: 0 r: 0.005\n",
      "k: 1 h: 4 a: 0 r: 0.005\n",
      "k: 1 h: 5 a: 0 r: 0.005\n",
      "k: 1 h: 8 a: 0 r: 0.005\n",
      "k: 1 h: 9 a: 0 r: 0.005\n",
      "k: 1 h: 10 a: 0 r: 0.005\n",
      "k: 1 h: 11 a: 0 r: 0.005\n",
      "k: 1 h: 13 a: 0 r: 0.005\n",
      "UCRL-MNL\n"
     ]
    },
    {
     "data": {
      "application/vnd.jupyter.widget-view+json": {
       "model_id": "421f74457ab948088f2fa944dc7dcf19",
       "version_major": 2,
       "version_minor": 0
      },
      "text/plain": [
       "  0%|          | 0/1 [00:00<?, ?it/s]"
      ]
     },
     "metadata": {},
     "output_type": "display_data"
    },
    {
     "name": "stdout",
     "output_type": "stream",
     "text": [
      "k: 1 h: 0 a: 0 r: 0.005\n",
      "k: 1 h: 1 a: 0 r: 0.005\n",
      "k: 1 h: 2 a: 0 r: 0.005\n",
      "k: 1 h: 3 a: 0 r: 0.005\n",
      "k: 1 h: 6 a: 0 r: 0\n",
      "k: 1 h: 8 a: 0 r: 0\n",
      "k: 1 h: 9 a: 0 r: 0.005\n",
      "k: 1 h: 10 a: 0 r: 0.005\n",
      "k: 1 h: 11 a: 0 r: 0.005\n",
      "k: 1 h: 12 a: 0 r: 0.005\n",
      "k: 1 h: 13 a: 0 r: 0.005\n",
      "k: 1 h: 14 a: 0 r: 0.005\n"
     ]
    },
    {
     "data": {
      "application/vnd.jupyter.widget-view+json": {
       "model_id": "ede435ebc3534b4a86f3d495e02d9544",
       "version_major": 2,
       "version_minor": 0
      },
      "text/plain": [
       "  0%|          | 0/5 [00:00<?, ?it/s]"
      ]
     },
     "metadata": {},
     "output_type": "display_data"
    },
    {
     "name": "stdout",
     "output_type": "stream",
     "text": [
      "UCRL-MNL\n"
     ]
    },
    {
     "data": {
      "application/vnd.jupyter.widget-view+json": {
       "model_id": "e1156d013a304ac796a7dfd50a0db375",
       "version_major": 2,
       "version_minor": 0
      },
      "text/plain": [
       "  0%|          | 0/1 [00:00<?, ?it/s]"
      ]
     },
     "metadata": {},
     "output_type": "display_data"
    },
    {
     "name": "stdout",
     "output_type": "stream",
     "text": [
      "k: 1 h: 1 a: 0 r: 0.005\n",
      "k: 1 h: 2 a: 0 r: 0.005\n",
      "k: 1 h: 3 a: 0 r: 0.005\n",
      "k: 1 h: 4 a: 0 r: 0.005\n",
      "k: 1 h: 5 a: 0 r: 0.005\n",
      "k: 1 h: 8 a: 0 r: 0\n",
      "k: 1 h: 9 a: 0 r: 0\n",
      "k: 1 h: 11 a: 0 r: 0\n",
      "k: 1 h: 12 a: 0 r: 0.005\n",
      "k: 1 h: 14 a: 0 r: 0\n",
      "UCRL-MNL\n"
     ]
    },
    {
     "data": {
      "application/vnd.jupyter.widget-view+json": {
       "model_id": "b78567550e7e49578a425f567ffb79bc",
       "version_major": 2,
       "version_minor": 0
      },
      "text/plain": [
       "  0%|          | 0/1 [00:00<?, ?it/s]"
      ]
     },
     "metadata": {},
     "output_type": "display_data"
    },
    {
     "name": "stdout",
     "output_type": "stream",
     "text": [
      "k: 1 h: 0 a: 0 r: 0.005\n",
      "k: 1 h: 1 a: 0 r: 0.005\n",
      "k: 1 h: 5 a: 0 r: 0\n",
      "k: 1 h: 6 a: 0 r: 0\n",
      "k: 1 h: 9 a: 0 r: 0\n",
      "k: 1 h: 12 a: 0 r: 0\n",
      "k: 1 h: 13 a: 0 r: 0.005\n",
      "k: 1 h: 14 a: 0 r: 0.005\n",
      "UCRL-MNL\n"
     ]
    },
    {
     "data": {
      "application/vnd.jupyter.widget-view+json": {
       "model_id": "6aafb4670f9e4e5aa26ae2c651f54135",
       "version_major": 2,
       "version_minor": 0
      },
      "text/plain": [
       "  0%|          | 0/1 [00:00<?, ?it/s]"
      ]
     },
     "metadata": {},
     "output_type": "display_data"
    },
    {
     "name": "stdout",
     "output_type": "stream",
     "text": [
      "k: 1 h: 0 a: 0 r: 0.005\n",
      "k: 1 h: 2 a: 0 r: 0\n",
      "k: 1 h: 5 a: 0 r: 0\n",
      "k: 1 h: 7 a: 0 r: 0.005\n",
      "k: 1 h: 8 a: 0 r: 0.005\n",
      "k: 1 h: 10 a: 0 r: 0.005\n",
      "k: 1 h: 12 a: 0 r: 0.005\n",
      "k: 1 h: 14 a: 0 r: 0.005\n",
      "UCRL-MNL\n"
     ]
    },
    {
     "data": {
      "application/vnd.jupyter.widget-view+json": {
       "model_id": "8349781b7819471b955d2716ff9e5746",
       "version_major": 2,
       "version_minor": 0
      },
      "text/plain": [
       "  0%|          | 0/1 [00:00<?, ?it/s]"
      ]
     },
     "metadata": {},
     "output_type": "display_data"
    },
    {
     "name": "stdout",
     "output_type": "stream",
     "text": [
      "k: 1 h: 0 a: 0 r: 0.005\n",
      "k: 1 h: 1 a: 0 r: 0.005\n",
      "k: 1 h: 2 a: 0 r: 0.005\n",
      "k: 1 h: 3 a: 0 r: 0.005\n",
      "k: 1 h: 4 a: 0 r: 0.005\n",
      "k: 1 h: 6 a: 0 r: 0\n",
      "k: 1 h: 7 a: 0 r: 0.005\n",
      "k: 1 h: 9 a: 0 r: 0\n",
      "k: 1 h: 11 a: 0 r: 0\n",
      "UCRL-MNL\n"
     ]
    },
    {
     "data": {
      "application/vnd.jupyter.widget-view+json": {
       "model_id": "0cfa003295c14d21bd85659da5622a62",
       "version_major": 2,
       "version_minor": 0
      },
      "text/plain": [
       "  0%|          | 0/1 [00:00<?, ?it/s]"
      ]
     },
     "metadata": {},
     "output_type": "display_data"
    },
    {
     "name": "stdout",
     "output_type": "stream",
     "text": [
      "k: 1 h: 0 a: 0 r: 0.005\n",
      "k: 1 h: 1 a: 0 r: 0.005\n",
      "k: 1 h: 3 a: 0 r: 0\n",
      "k: 1 h: 4 a: 0 r: 0.005\n",
      "k: 1 h: 5 a: 0 r: 0.005\n",
      "k: 1 h: 13 a: 0 r: 0\n",
      "k: 1 h: 14 a: 0 r: 0.005\n",
      "0.01\n"
     ]
    }
   ],
   "source": [
    "K = 1\n",
    "nState = 4\n",
    "H = 15\n",
    "env = make_riverSwim(epLen=H, nState=nState)\n",
    "\n",
    "c_ = [1e-1, 5e-2, 1e-2, 5e-3]\n",
    "\n",
    "avg_return = []\n",
    "\n",
    "for c in c_:   \n",
    "\n",
    "    run_returns = []\n",
    "\n",
    "    for run in tqdm(range(runs)):\n",
    "\n",
    "        random.seed(seeds[run])\n",
    "        agent = UCRL_MNL(env, K, c=c)\n",
    "        episode_return = agent.run()                \n",
    "        run_returns.append(episode_return)\n",
    "\n",
    "    avg_return.append(np.sum(np.mean(run_returns, axis=0)))\n",
    "    \n",
    "c__ = c_[np.argmax(avg_return)]\n",
    "print(c__)"
   ]
  },
  {
   "cell_type": "code",
   "execution_count": 6,
   "id": "bcc9e9ee",
   "metadata": {},
   "outputs": [
    {
     "data": {
      "application/vnd.jupyter.widget-view+json": {
       "model_id": "21aeebd7a18f4890806ec8e1e9e32b94",
       "version_major": 2,
       "version_minor": 0
      },
      "text/plain": [
       "  0%|          | 0/5 [00:00<?, ?it/s]"
      ]
     },
     "metadata": {},
     "output_type": "display_data"
    },
    {
     "name": "stdout",
     "output_type": "stream",
     "text": [
      "UCRL-MNL\n",
      "UCRL-MNL\n",
      "UCRL-MNL\n",
      "UCRL-MNL\n",
      "UCRL-MNL\n"
     ]
    },
    {
     "data": {
      "application/vnd.jupyter.widget-view+json": {
       "model_id": "af830e88424f474cadf8bbd369124d0a",
       "version_major": 2,
       "version_minor": 0
      },
      "text/plain": [
       "  0%|          | 0/5 [00:00<?, ?it/s]"
      ]
     },
     "metadata": {},
     "output_type": "display_data"
    },
    {
     "name": "stdout",
     "output_type": "stream",
     "text": [
      "UCRL-MNL\n",
      "UCRL-MNL\n",
      "UCRL-MNL\n",
      "UCRL-MNL\n",
      "UCRL-MNL\n"
     ]
    },
    {
     "data": {
      "application/vnd.jupyter.widget-view+json": {
       "model_id": "b1045704ad4e4a699346f347472d6880",
       "version_major": 2,
       "version_minor": 0
      },
      "text/plain": [
       "  0%|          | 0/5 [00:00<?, ?it/s]"
      ]
     },
     "metadata": {},
     "output_type": "display_data"
    },
    {
     "name": "stdout",
     "output_type": "stream",
     "text": [
      "UCRL-MNL\n",
      "UCRL-MNL\n",
      "UCRL-MNL\n",
      "UCRL-MNL\n",
      "UCRL-MNL\n"
     ]
    },
    {
     "data": {
      "application/vnd.jupyter.widget-view+json": {
       "model_id": "29bc16afdcb54546a09ef50af6d2744f",
       "version_major": 2,
       "version_minor": 0
      },
      "text/plain": [
       "  0%|          | 0/5 [00:00<?, ?it/s]"
      ]
     },
     "metadata": {},
     "output_type": "display_data"
    },
    {
     "name": "stdout",
     "output_type": "stream",
     "text": [
      "UCRL-MNL\n",
      "UCRL-MNL\n",
      "UCRL-MNL\n",
      "UCRL-MNL\n",
      "UCRL-MNL\n"
     ]
    },
    {
     "data": {
      "application/vnd.jupyter.widget-view+json": {
       "model_id": "f0ed70c0170f459d847ba7e7135d6024",
       "version_major": 2,
       "version_minor": 0
      },
      "text/plain": [
       "  0%|          | 0/5 [00:00<?, ?it/s]"
      ]
     },
     "metadata": {},
     "output_type": "display_data"
    },
    {
     "name": "stdout",
     "output_type": "stream",
     "text": [
      "UCRL-MNL\n",
      "UCRL-MNL\n",
      "UCRL-MNL\n",
      "UCRL-MNL\n",
      "UCRL-MNL\n",
      "0.0001\n"
     ]
    }
   ],
   "source": [
    "K = 50\n",
    "nState = 6\n",
    "H = 20\n",
    "env = make_riverSwim(epLen=H, nState=nState)\n",
    "\n",
    "c_ = [1e-2, 5e-3, 1e-3, 5e-4, 1e-4]\n",
    "\n",
    "avg_return = []\n",
    "\n",
    "for c in c_:   \n",
    "\n",
    "    run_returns = []\n",
    "\n",
    "    for run in tqdm(range(runs)):\n",
    "\n",
    "        random.seed(seeds[run])\n",
    "        agent = UCRL_MNL(env, K, c=c)\n",
    "        episode_return = agent.run()                \n",
    "        run_returns.append(episode_return)\n",
    "\n",
    "    avg_return.append(np.sum(np.mean(run_returns, axis=0)))\n",
    "    \n",
    "c__ = c_[np.argmax(avg_return)]\n",
    "print(c__)"
   ]
  },
  {
   "cell_type": "code",
   "execution_count": 8,
   "id": "cf8116fc",
   "metadata": {},
   "outputs": [
    {
     "data": {
      "application/vnd.jupyter.widget-view+json": {
       "model_id": "6b5266a192124c5f82852b0b35806d7d",
       "version_major": 2,
       "version_minor": 0
      },
      "text/plain": [
       "  0%|          | 0/5 [00:00<?, ?it/s]"
      ]
     },
     "metadata": {},
     "output_type": "display_data"
    },
    {
     "name": "stdout",
     "output_type": "stream",
     "text": [
      "UCRL-MNL\n",
      "UCRL-MNL\n",
      "UCRL-MNL\n",
      "UCRL-MNL\n",
      "UCRL-MNL\n"
     ]
    },
    {
     "data": {
      "application/vnd.jupyter.widget-view+json": {
       "model_id": "e89d37204a854de6890248c6fe773167",
       "version_major": 2,
       "version_minor": 0
      },
      "text/plain": [
       "  0%|          | 0/5 [00:00<?, ?it/s]"
      ]
     },
     "metadata": {},
     "output_type": "display_data"
    },
    {
     "name": "stdout",
     "output_type": "stream",
     "text": [
      "UCRL-MNL\n",
      "UCRL-MNL\n",
      "UCRL-MNL\n",
      "UCRL-MNL\n",
      "UCRL-MNL\n"
     ]
    },
    {
     "data": {
      "application/vnd.jupyter.widget-view+json": {
       "model_id": "69a399301e744f6f9eaa88b00aa9f99f",
       "version_major": 2,
       "version_minor": 0
      },
      "text/plain": [
       "  0%|          | 0/5 [00:00<?, ?it/s]"
      ]
     },
     "metadata": {},
     "output_type": "display_data"
    },
    {
     "name": "stdout",
     "output_type": "stream",
     "text": [
      "UCRL-MNL\n",
      "UCRL-MNL\n",
      "UCRL-MNL\n",
      "UCRL-MNL\n",
      "UCRL-MNL\n"
     ]
    },
    {
     "data": {
      "application/vnd.jupyter.widget-view+json": {
       "model_id": "638a2edc25d04605a3abba6a7df06f46",
       "version_major": 2,
       "version_minor": 0
      },
      "text/plain": [
       "  0%|          | 0/5 [00:00<?, ?it/s]"
      ]
     },
     "metadata": {},
     "output_type": "display_data"
    },
    {
     "name": "stdout",
     "output_type": "stream",
     "text": [
      "UCRL-MNL\n",
      "UCRL-MNL\n",
      "UCRL-MNL\n",
      "UCRL-MNL\n",
      "UCRL-MNL\n",
      "1e-05\n"
     ]
    }
   ],
   "source": [
    "K = 50\n",
    "nState = 8\n",
    "H = 25\n",
    "env = make_riverSwim(epLen=H, nState=nState)\n",
    "\n",
    "c_ = [5e-4, 1e-4, 5e-5, 1e-5]\n",
    "\n",
    "avg_return = []\n",
    "\n",
    "for c in c_:   \n",
    "\n",
    "    run_returns = []\n",
    "\n",
    "    for run in tqdm(range(runs)):\n",
    "\n",
    "        random.seed(seeds[run])\n",
    "        agent = UCRL_MNL(env, K, c=c)\n",
    "        episode_return = agent.run()                \n",
    "        run_returns.append(episode_return)\n",
    "\n",
    "    avg_return.append(np.sum(np.mean(run_returns, axis=0)))\n",
    "    \n",
    "c__ = c_[np.argmax(avg_return)]\n",
    "print(c__)"
   ]
  },
  {
   "cell_type": "code",
   "execution_count": 10,
   "id": "6c4311b7",
   "metadata": {},
   "outputs": [
    {
     "data": {
      "application/vnd.jupyter.widget-view+json": {
       "model_id": "e55b70587734425f824b0b2aba51edea",
       "version_major": 2,
       "version_minor": 0
      },
      "text/plain": [
       "  0%|          | 0/5 [00:00<?, ?it/s]"
      ]
     },
     "metadata": {},
     "output_type": "display_data"
    },
    {
     "name": "stdout",
     "output_type": "stream",
     "text": [
      "UCRL-MNL\n",
      "UCRL-MNL\n",
      "UCRL-MNL\n",
      "UCRL-MNL\n",
      "UCRL-MNL\n"
     ]
    },
    {
     "data": {
      "application/vnd.jupyter.widget-view+json": {
       "model_id": "7535926f3ddf482da2619bf544090225",
       "version_major": 2,
       "version_minor": 0
      },
      "text/plain": [
       "  0%|          | 0/5 [00:00<?, ?it/s]"
      ]
     },
     "metadata": {},
     "output_type": "display_data"
    },
    {
     "name": "stdout",
     "output_type": "stream",
     "text": [
      "UCRL-MNL\n",
      "UCRL-MNL\n",
      "UCRL-MNL\n",
      "UCRL-MNL\n",
      "UCRL-MNL\n"
     ]
    },
    {
     "data": {
      "application/vnd.jupyter.widget-view+json": {
       "model_id": "fb7704b7d75c4f8e95adc2784c743864",
       "version_major": 2,
       "version_minor": 0
      },
      "text/plain": [
       "  0%|          | 0/5 [00:00<?, ?it/s]"
      ]
     },
     "metadata": {},
     "output_type": "display_data"
    },
    {
     "name": "stdout",
     "output_type": "stream",
     "text": [
      "UCRL-MNL\n",
      "UCRL-MNL\n",
      "UCRL-MNL\n",
      "UCRL-MNL\n",
      "UCRL-MNL\n"
     ]
    },
    {
     "data": {
      "application/vnd.jupyter.widget-view+json": {
       "model_id": "a8c5ae2b6ad848a6ac8d70827aeea5a1",
       "version_major": 2,
       "version_minor": 0
      },
      "text/plain": [
       "  0%|          | 0/5 [00:00<?, ?it/s]"
      ]
     },
     "metadata": {},
     "output_type": "display_data"
    },
    {
     "name": "stdout",
     "output_type": "stream",
     "text": [
      "UCRL-MNL\n",
      "UCRL-MNL\n",
      "UCRL-MNL\n",
      "UCRL-MNL\n",
      "UCRL-MNL\n"
     ]
    },
    {
     "data": {
      "application/vnd.jupyter.widget-view+json": {
       "model_id": "4f6caba4b49d4df38dd1218eb72c3850",
       "version_major": 2,
       "version_minor": 0
      },
      "text/plain": [
       "  0%|          | 0/5 [00:00<?, ?it/s]"
      ]
     },
     "metadata": {},
     "output_type": "display_data"
    },
    {
     "name": "stdout",
     "output_type": "stream",
     "text": [
      "UCRL-MNL\n",
      "UCRL-MNL\n",
      "UCRL-MNL\n",
      "UCRL-MNL\n",
      "UCRL-MNL\n",
      "5e-05\n"
     ]
    }
   ],
   "source": [
    "K = 50\n",
    "nState = 10\n",
    "H = 30\n",
    "env = make_riverSwim(epLen=H, nState=nState)\n",
    "\n",
    "c_ = [1e-4, 5e-5, 1e-5, 5e-6, 1e-6]\n",
    "\n",
    "avg_return = []\n",
    "\n",
    "for c in c_:   \n",
    "\n",
    "    run_returns = []\n",
    "\n",
    "    for run in tqdm(range(runs)):\n",
    "\n",
    "        random.seed(seeds[run])\n",
    "        agent = UCRL_MNL(env, K, c=c)\n",
    "        episode_return = agent.run()                \n",
    "        run_returns.append(episode_return)\n",
    "\n",
    "    avg_return.append(np.sum(np.mean(run_returns, axis=0)))\n",
    "    \n",
    "c__ = c_[np.argmax(avg_return)]\n",
    "print(c__)"
   ]
  }
 ],
 "metadata": {
  "kernelspec": {
   "display_name": "Python 3 (ipykernel)",
   "language": "python",
   "name": "python3"
  },
  "language_info": {
   "codemirror_mode": {
    "name": "ipython",
    "version": 3
   },
   "file_extension": ".py",
   "mimetype": "text/x-python",
   "name": "python",
   "nbconvert_exporter": "python",
   "pygments_lexer": "ipython3",
   "version": "3.12.3"
  }
 },
 "nbformat": 4,
 "nbformat_minor": 5
}
